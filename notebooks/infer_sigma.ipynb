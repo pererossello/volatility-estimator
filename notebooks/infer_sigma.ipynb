{
 "cells": [
  {
   "cell_type": "code",
   "execution_count": 1,
   "id": "72407b27",
   "metadata": {},
   "outputs": [],
   "source": [
    "# autoreload\n",
    "%load_ext autoreload\n",
    "%autoreload 2\n",
    "\n",
    "import sys\n",
    "import warnings\n",
    "from datetime import datetime, timezone\n",
    "\n",
    "import numpy as np\n",
    "import yfinance as yf\n",
    "import pandas as pd\n",
    "import matplotlib.pyplot as plt\n",
    "import jax\n",
    "import jax.numpy as jnp\n",
    "\n",
    "sys.path.append(\"..\")\n",
    "from src.model.main import black_scholes, NR_for_sigma"
   ]
  },
  {
   "cell_type": "markdown",
   "id": "77527104",
   "metadata": {},
   "source": [
    "Using Newton-Rapson and `jax` autodiff to compute intrinsic volatility."
   ]
  },
  {
   "cell_type": "code",
   "execution_count": 2,
   "id": "b61b81c3",
   "metadata": {},
   "outputs": [
    {
     "name": "stderr",
     "output_type": "stream",
     "text": [
      "WARNING:2025-09-16 13:47:53,905:jax._src.xla_bridge:864: An NVIDIA GPU may be present on this machine, but a CUDA-enabled jaxlib is not installed. Falling back to cpu.\n"
     ]
    },
    {
     "name": "stdout",
     "output_type": "stream",
     "text": [
      "6.040088129724232\n"
     ]
    }
   ],
   "source": [
    "S, K, T, r, q = 100, 110, 1, 0.05, 0.0\n",
    "otype = \"call\"\n",
    "\n",
    "true_sigma = 0.2\n",
    "market_price = black_scholes(S, K, T, r, true_sigma, q, otype)\n",
    "print(market_price)"
   ]
  },
  {
   "cell_type": "code",
   "execution_count": 3,
   "id": "4fda5953",
   "metadata": {},
   "outputs": [
    {
     "name": "stdout",
     "output_type": "stream",
     "text": [
      "Iter 0: sigma=0.3, loss=3.979989490331725\n",
      "Iter 1: sigma=0.20023640478353788, loss=0.00935619522458353\n",
      "Iter 2: sigma=0.20000000575577456, loss=2.2779081376711474e-07\n",
      "Iter 3: sigma=0.19999999999999993, loss=7.105427357601002e-15\n",
      "\n",
      "Inferred sigma: 0.19999999999999993\n",
      "True sigma: 0.2\n"
     ]
    }
   ],
   "source": [
    "inferred_sigma = NR_for_sigma(\n",
    "    S,\n",
    "    K,\n",
    "    T,\n",
    "    r,\n",
    "    market_price,\n",
    "    sigma_guess=0.3,\n",
    "    q=q,\n",
    "    otype=otype,\n",
    "    tol=1e-7,\n",
    "    max_iter=100,\n",
    "    verbose=True,\n",
    ")\n",
    "\n",
    "print()\n",
    "print(f\"Inferred sigma: {inferred_sigma}\")\n",
    "print(f\"True sigma: {true_sigma}\")"
   ]
  }
 ],
 "metadata": {
  "kernelspec": {
   "display_name": "Python 3",
   "language": "python",
   "name": "python3"
  },
  "language_info": {
   "codemirror_mode": {
    "name": "ipython",
    "version": 3
   },
   "file_extension": ".py",
   "mimetype": "text/x-python",
   "name": "python",
   "nbconvert_exporter": "python",
   "pygments_lexer": "ipython3",
   "version": "3.12.10"
  }
 },
 "nbformat": 4,
 "nbformat_minor": 5
}
